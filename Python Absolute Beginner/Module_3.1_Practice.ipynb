{
 "cells": [
  {
   "cell_type": "markdown",
   "metadata": {},
   "source": [
    "# Module 3 Practice 1\n",
    "## Conditionals \n",
    "<font size=\"5\" color=\"#00A0B2\"  face=\"verdana\"> <B>Student will be able to</B></font>  \n",
    "- **control code flow with `if`... `else` conditional logic**  \n",
    "  - using Boolean string methods (`.isupper(), .isalpha(), .startswith()...`)  \n",
    "  - using comparision (`>, <, >=, <=, ==, !=`)  \n",
    "  - using Strings in comparisons  \n",
    "\n",
    "## `if else`\n"
   ]
  },
  {
   "cell_type": "code",
   "execution_count": 66,
   "metadata": {},
   "outputs": [
    {
     "name": "stdout",
     "output_type": "stream",
     "text": [
      "Age's first type is:  <class 'int'>\n",
      "Age's second type is:  <class 'int'>\n",
      "It is good to be 7.\n"
     ]
    }
   ],
   "source": [
    "# [ ] input a variable: age as digit and cast to int\n",
    "# if age greater than or equal to 12 then print message on age in 10 years \n",
    "# or else print message \"It is good to be\" age\n",
    "from unicodedata import digit\n",
    "\n",
    "age = int(input(\"Input your age (use only whole numbers): \"))\n",
    "print(\"Age's first type is: \",type(age))\n",
    "age == digit \n",
    "print(\"Age's second type is: \",type(age))\n",
    "age = int(str(age))\n",
    "\n",
    "if age >= 12:\n",
    "    print(\"In ten years you will be \"+str(age+10)+\".\")\n",
    "else:\n",
    "    print(\"It is good to be \"+str(age)+\".\")\n",
    "\n",
    "\n",
    "\n"
   ]
  },
  {
   "cell_type": "code",
   "execution_count": 96,
   "metadata": {
    "collapsed": true
   },
   "outputs": [
    {
     "name": "stdout",
     "output_type": "stream",
     "text": [
      "67 is greater than 100 is False\n"
     ]
    }
   ],
   "source": [
    "# [ ] input a number \n",
    "# if number IS a digit string then cast to int\n",
    "# print number \"greater than 100 is\" True/False\n",
    "# if number is NOT a digit string then message the user that \"only int is accepted\"\n",
    "\n",
    "#from unicodedata import digit // didn't need \n",
    "ran_num = input(\"Input your age (use only whole numbers): \")\n",
    "\n",
    "if ran_num.isdigit:\n",
    "    ran_num = int(ran_num)\n",
    "    if ran_num > 100: \n",
    "        TF = True\n",
    "    else:\n",
    "        TF = False\n",
    "    print(ran_num,\"is greater than 100 is\",TF)\n",
    "    #print(\"Age's second type is: \",type(ran_num)) // check type \n",
    "elif ran_num != digit:\n",
    "    print(\"Only int is accepted\")\n",
    "\n",
    "\n"
   ]
  },
  {
   "cell_type": "markdown",
   "metadata": {},
   "source": [
    "### Guessing a letter A-Z  \n",
    "**check_guess()** takes 2 string arguments: **letter and guess** (both expect single alphabetical character)   \n",
    "    - if guess is not an alpha character print invalid and return False\n",
    "    - test and print if guess is \"high\" or \"low\" and return False\n",
    "    - test and print if guess is \"correct\" and return True"
   ]
  },
  {
   "cell_type": "code",
   "execution_count": 165,
   "metadata": {
    "collapsed": true
   },
   "outputs": [
    {
     "name": "stdout",
     "output_type": "stream",
     "text": [
      "Low\n",
      "False\n"
     ]
    }
   ],
   "source": [
    "# [ ] create check_guess()\n",
    "# call with test\n",
    "\n",
    "def check_guess(letter=\"Enter a letter (single alphabetic character)\", guess = \"Enter a guess (single alphabetic character)\"):\n",
    "    user_letter = input(letter)\n",
    "    user_guess = input(guess) \n",
    "    #print(user_letter)\n",
    "    #print(user_guess)\n",
    "    if user_guess.isalpha(): \n",
    "        #user_letter = True\n",
    "        #user_guess = True\n",
    "        if user_letter > user_guess:\n",
    "            print(\"High\")\n",
    "            return(False)\n",
    "        elif user_letter < user_guess:\n",
    "            print(\"Low\")\n",
    "            return(False)\n",
    "        else:\n",
    "            print(\"You found the correct letter!\")\n",
    "            return(True)\n",
    "        \n",
    "    else:\n",
    "        print(\"Invalid\")\n",
    "        return(False)\n",
    "        \n",
    "\n",
    "print(check_guess())\n"
   ]
  },
  {
   "cell_type": "code",
   "execution_count": 166,
   "metadata": {
    "collapsed": true
   },
   "outputs": [
    {
     "name": "stdout",
     "output_type": "stream",
     "text": [
      "Low\n"
     ]
    },
    {
     "data": {
      "text/plain": [
       "False"
      ]
     },
     "execution_count": 166,
     "metadata": {},
     "output_type": "execute_result"
    }
   ],
   "source": [
    "# [ ] call check_guess with user input\n",
    "\n",
    "check_guess()"
   ]
  },
  {
   "cell_type": "markdown",
   "metadata": {},
   "source": [
    "### Letter Guess\n",
    "**create letter_guess() function that gives user 3 guesses**\n",
    "- takes a letter character argument for the answer letter\n",
    "- gets user input for letter guess  \n",
    "- calls check_guess() with answer and guess\n",
    "- End letter_guess if \n",
    "    - check_guess() equals True, return True  \n",
    "    - or after 3 failed attempts, return False"
   ]
  },
  {
   "cell_type": "code",
   "execution_count": 185,
   "metadata": {
    "collapsed": true
   },
   "outputs": [
    {
     "name": "stdout",
     "output_type": "stream",
     "text": [
      "True\n"
     ]
    }
   ],
   "source": [
    "# [ ] create letter_guess() function, call the function to test\n",
    "\n",
    "def letter_guess(letter=\"Enter a letter (single alphabetic character)\", guess_one = \"Enter guess one\",guess_two = \"Enter guess two\",guess_three = \"Enter guess three\"):\n",
    "    user_letter = input(letter)\n",
    "    user_guess_one = input(guess_one) \n",
    "    user_guess_two = input(guess_two)\n",
    "    user_guess_three = input(guess_three)\n",
    "    \n",
    "    if user_guess_one == user_letter:\n",
    "        return(True)\n",
    "    elif user_guess_two == user_letter:\n",
    "        return(True)\n",
    "    elif user_guess_three == user_letter:\n",
    "        return(True)\n",
    "    else:\n",
    "        return(False)\n",
    "       \n",
    "print(letter_guess())\n"
   ]
  },
  {
   "cell_type": "markdown",
   "metadata": {},
   "source": [
    "### Pet Conversation\n",
    "**ask the user for a sentence about a pet and then reply**  \n",
    "- get user input in variable: about_pet\n",
    "- using a series of **if** statements respond with appropriate conversation\n",
    "  - check if \"dog\" is in the string about_pet (sample reply \"Ah, a dog\")\n",
    "  - check if \"cat\" is in the string about_pet\n",
    "  - check if 1 or more animal is in string about_pet\n",
    "- no need for **else**'s\n",
    "- finish with thanking for the story"
   ]
  },
  {
   "cell_type": "code",
   "execution_count": 198,
   "metadata": {
    "collapsed": true
   },
   "outputs": [
    {
     "name": "stdout",
     "output_type": "stream",
     "text": [
      "What kind of pet do you have?\n",
      "Awe a dog!\n"
     ]
    }
   ],
   "source": [
    "# [ ] complete pet conversation\n",
    "\n",
    "print(\"What kind of pet do you have?\")\n",
    "about_pet = input()\n",
    "\n",
    "if about_pet == 'dog':\n",
    "    print(\"Awe a dog!\")\n",
    "elif about_pet == 'cat':\n",
    "    print(\"A cat!\")\n",
    "elif about_pet == 'fish':\n",
    "    print(\"Oh a fish!\")\n",
    "    print(\"Thank you for the story!\")\n"
   ]
  },
  {
   "cell_type": "markdown",
   "metadata": {},
   "source": [
    "# Module 3 Practice 2\n",
    "## conditionals, type, and mathematics extended   \n",
    "&nbsp;\n",
    "<font size=\"5\" color=\"#00A0B2\"  face=\"verdana\"> <B>Student will be able to</B></font>  \n",
    "- code more than two choices using **`elif`** \n",
    "- gather numeric input using type casting  \n",
    "- perform subtraction, multiplication and division operations in code  &nbsp;  \n"
   ]
  },
  {
   "cell_type": "markdown",
   "metadata": {},
   "source": [
    "# &nbsp;  \n",
    "<font size=\"6\" color=\"#B24C00\"  face=\"verdana\"> <B>Tasks</B></font>"
   ]
  },
  {
   "cell_type": "markdown",
   "metadata": {},
   "source": [
    "### Rainbow colors\n",
    "ask for input of a favorite rainbow color first letter: ROYGBIV  \n",
    "\n",
    "Using `if`, `elif`, and `else`:  \n",
    "- print the color matching the letter  \n",
    "    - R = Red  \n",
    "    - O = Orange  \n",
    "    - Y = Yellow  \n",
    "    - G = Green\n",
    "    - B = Blue\n",
    "    - I = Indigo\n",
    "    - V = Violet\n",
    "    - else print \"no match\"\n"
   ]
  },
  {
   "cell_type": "code",
   "execution_count": 4,
   "metadata": {},
   "outputs": [
    {
     "name": "stdout",
     "output_type": "stream",
     "text": [
      "Your favorit color is orange!\n",
      "None\n"
     ]
    }
   ],
   "source": [
    "# [ ] complete rainbow colors\n",
    "\n",
    "def rainbow_color(letter =\"What is your favorite rainbw color, choose a letter from: ROYGBIV \"): \n",
    "    letter = input()\n",
    "    if letter.startswith(\"R\"):\n",
    "        print(\"Your favorit color is red!\")\n",
    "    elif letter.startswith(\"O\"):\n",
    "        print(\"Your favorit color is orange!\")\n",
    "    elif letter.startswith(\"Y\"):\n",
    "        print(\"Your favorit color is yellow!\")\n",
    "    elif letter.startswith(\"G\"):\n",
    "        print(\"Your favorit color is green!\")\n",
    "    elif letter.startswith(\"B\"):\n",
    "        print(\"Your favorit color is blue!\")\n",
    "    elif letter.startswith(\"I\"):\n",
    "        print(\"Your favorit color is indigo!\")\n",
    "    elif letter.startswith(\"V\"):\n",
    "        print(\"Your favorit color is violet!\")\n",
    "    else:\n",
    "        print(\"No match!\")\n",
    "\n",
    "print(rainbow_color())  "
   ]
  },
  {
   "cell_type": "code",
   "execution_count": 5,
   "metadata": {},
   "outputs": [
    {
     "name": "stdout",
     "output_type": "stream",
     "text": [
      "Your favorit color is green!\n",
      "None\n"
     ]
    }
   ],
   "source": [
    "# [ ] make the code above into a function rainbow_color() that has a string parameter, \n",
    "# get input and call the function and return the matching color as a string or \"no match\" message.\n",
    "# Call the function and print the return string.\n",
    "\n",
    "#print(\"What is your favorite rainbw color, choose a letter from: ROYGBIV \")\n",
    "print(rainbow_color())"
   ]
  },
  {
   "cell_type": "markdown",
   "metadata": {},
   "source": [
    "# &nbsp;  \n",
    "**Create function age_20() that adds or subtracts 20 from your age for a return value based on current age** (use `if`) \n",
    "- call the funtion with user input and then use the return value in a sentence  \n",
    "example `age_20(25)` returns **5**: \n",
    "> \"5 years old, 20 years difference from now\""
   ]
  },
  {
   "cell_type": "code",
   "execution_count": 24,
   "metadata": {},
   "outputs": [
    {
     "name": "stdout",
     "output_type": "stream",
     "text": [
      "-12 years old, 20 years diffrence from now!\n",
      "None\n"
     ]
    }
   ],
   "source": [
    "# [ ] complete age_20()\n",
    "\n",
    "def age_20():\n",
    "    numb = input(\"Enter a number\")\n",
    "    new_numb = int(numb) - 20\n",
    "    print(new_numb,\"years old, 20 years diffrence from now!\")\n",
    "    \n",
    "print(age_20())"
   ]
  },
  {
   "cell_type": "markdown",
   "metadata": {},
   "source": [
    "**create a function rainbow_or_age that takes a string argument**\n",
    "- if argument is a digit return the value of calling age_20() with the str value cast as **`int`** \n",
    "- if argument is an alphabetical character return the value of calling rainbow_color() with the str\n",
    "- if neither return FALSE"
   ]
  },
  {
   "cell_type": "code",
   "execution_count": 98,
   "metadata": {},
   "outputs": [
    {
     "ename": "ValueError",
     "evalue": "invalid literal for int() with base 10: 'What it is? '",
     "output_type": "error",
     "traceback": [
      "\u001b[0;31m---------------------------------------------------------------------------\u001b[0m",
      "\u001b[0;31mValueError\u001b[0m                                Traceback (most recent call last)",
      "Cell \u001b[0;32mIn[98], line 39\u001b[0m\n\u001b[1;32m     34\u001b[0m     \u001b[38;5;66;03m#elif user == digit:\u001b[39;00m\n\u001b[1;32m     35\u001b[0m         \u001b[38;5;66;03m#print(rainbow_color())\u001b[39;00m\n\u001b[1;32m     36\u001b[0m     \u001b[38;5;28;01melse\u001b[39;00m:\n\u001b[1;32m     37\u001b[0m         \u001b[38;5;28mprint\u001b[39m(\u001b[38;5;28;01mFalse\u001b[39;00m)\n\u001b[0;32m---> 39\u001b[0m \u001b[43mrainbow_or_age\u001b[49m\u001b[43m(\u001b[49m\u001b[43m)\u001b[49m\n",
      "Cell \u001b[0;32mIn[98], line 32\u001b[0m, in \u001b[0;36mrainbow_or_age\u001b[0;34m(user)\u001b[0m\n\u001b[1;32m     28\u001b[0m subject \u001b[38;5;241m=\u001b[39m \u001b[38;5;28minput\u001b[39m(user)\n\u001b[1;32m     31\u001b[0m \u001b[38;5;28;01mif\u001b[39;00m subject\u001b[38;5;241m.\u001b[39misdigit:\n\u001b[0;32m---> 32\u001b[0m     subject \u001b[38;5;241m=\u001b[39m \u001b[38;5;28;43mint\u001b[39;49m\u001b[43m(\u001b[49m\u001b[43muser\u001b[49m\u001b[43m)\u001b[49m\n\u001b[1;32m     33\u001b[0m     \u001b[38;5;28mprint\u001b[39m(age_20())\n\u001b[1;32m     34\u001b[0m \u001b[38;5;66;03m#elif user == digit:\u001b[39;00m\n\u001b[1;32m     35\u001b[0m     \u001b[38;5;66;03m#print(rainbow_color())\u001b[39;00m\n\u001b[1;32m     36\u001b[0m \u001b[38;5;28;01melse\u001b[39;00m:\n",
      "\u001b[0;31mValueError\u001b[0m: invalid literal for int() with base 10: 'What it is? '"
     ]
    }
   ],
   "source": [
    "# [ ]  create rainbow_or_age()\n",
    "#print(age_20())\n",
    "def age_20():\n",
    "    numb = input(\"Enter a number\")\n",
    "    new_numb = int(numb) - 20\n",
    "    print(new_numb,\"years old, 20 years diffrence from now!\")\n",
    "   \n",
    "def rainbow_color(letter =\"What is your favorite rainbow color, choose a letter from: ROYGBIV \"): \n",
    "    letter = input()\n",
    "    if letter.startswith(\"R\"):\n",
    "        print(\"Your favorit color is red!\")\n",
    "    elif letter.startswith(\"O\"):\n",
    "        print(\"Your favorit color is orange!\")\n",
    "    elif letter.startswith(\"Y\"):\n",
    "        print(\"Your favorit color is yellow!\")\n",
    "    elif letter.startswith(\"G\"):\n",
    "        print(\"Your favorit color is green!\")\n",
    "    elif letter.startswith(\"B\"):\n",
    "        print(\"Your favorit color is blue!\")\n",
    "    elif letter.startswith(\"I\"):\n",
    "        print(\"Your favorit color is indigo!\")\n",
    "    elif letter.startswith(\"V\"):\n",
    "        print(\"Your favorit color is violet!\")\n",
    "    else:\n",
    "        print(\"No match!\")\n",
    "        \n",
    "def rainbow_or_age( user = \"What it is? \"):\n",
    "    subject = input(user)\n",
    "    \n",
    "    \n",
    "    if subject.isdigit:\n",
    "        subject = int(user)\n",
    "        print(age_20())\n",
    "    #elif user == digit:\n",
    "        #print(rainbow_color())\n",
    "    else:\n",
    "        print(False)\n",
    "    \n",
    "rainbow_or_age()\n"
   ]
  },
  {
   "cell_type": "code",
   "execution_count": 99,
   "metadata": {},
   "outputs": [
    {
     "name": "stdout",
     "output_type": "stream",
     "text": [
      "Please give a number to be added: \n",
      "Please give a second number to be added: \n",
      "8\n"
     ]
    }
   ],
   "source": [
    "# [ ]  add 2 numbers from input using a cast to integer and display the answer \n",
    "\n",
    "print(\"Please give a number to be added: \")\n",
    "num_one = input()\n",
    "print(\"Please give a second number to be added: \")\n",
    "num_two = input()\n",
    "\n",
    "add_nums = int(num_one) + int(num_two)\n",
    "print(add_nums)"
   ]
  },
  {
   "cell_type": "code",
   "execution_count": 102,
   "metadata": {},
   "outputs": [
    {
     "name": "stdout",
     "output_type": "stream",
     "text": [
      "Please give a number to be multiplied: \n",
      "Please give a second number to be multiplied: \n",
      "The answer is  6\n"
     ]
    }
   ],
   "source": [
    "# [ ] Multiply 2 numbers from input using cast and save the answer as part of a string \"the answer is...\"\n",
    "# display the string using print\n",
    "\n",
    "print(\"Please give a number to be multiplied: \")\n",
    "num_one = input()\n",
    "print(\"Please give a second number to be multiplied: \")\n",
    "num_two = input()\n",
    "\n",
    "add_nums = int(num_one) * int(num_two)\n",
    "print(\"The answer is \",str(add_nums))"
   ]
  },
  {
   "cell_type": "code",
   "execution_count": 122,
   "metadata": {},
   "outputs": [
    {
     "name": "stdout",
     "output_type": "stream",
     "text": [
      "Please give a number: \n",
      "Please give another number: \n",
      "18.5\n"
     ]
    }
   ],
   "source": [
    "# [ ] get input of 2 numbers and display the average: (num1 + num2) divided by 2\n",
    "import math\n",
    "\n",
    "print(\"Please give a number: \")\n",
    "num_one = int(input())\n",
    "print(\"Please give another number: \")\n",
    "num_two = int(input())\n",
    "\n",
    "add_nums = (num_one + num_two) / 2\n",
    "print(add_nums)\n"
   ]
  },
  {
   "cell_type": "code",
   "execution_count": 124,
   "metadata": {},
   "outputs": [
    {
     "name": "stdout",
     "output_type": "stream",
     "text": [
      "Please give a number: \n",
      "Please give another number: \n",
      "-2\n"
     ]
    }
   ],
   "source": [
    "# [ ] get input of 2 numbers and subtract the largest from the smallest (use an if statement to see which is larger)\n",
    "# show the answer\n",
    "\n",
    "print(\"Please give a number: \")\n",
    "num_one = int(input())\n",
    "print(\"Please give another number: \")\n",
    "num_two = int(input())\n",
    "\n",
    "if num_one > num_two:\n",
    "    print(num_two - num_one)\n",
    "else:\n",
    "    print(num_one - num_two)"
   ]
  },
  {
   "cell_type": "code",
   "execution_count": 132,
   "metadata": {},
   "outputs": [
    {
     "name": "stdout",
     "output_type": "stream",
     "text": [
      "Please give a number: \n",
      "Please give another number: \n",
      "1496\n"
     ]
    }
   ],
   "source": [
    "# [ ] Divide a larger number by a smaller number and print the integer part of the result\n",
    "# don't divide by zero! if a zero is input make the result zero\n",
    "# [ ] cast the answer to an integer to cut off the decimals and print the result\n",
    "\n",
    "print(\"Please give a number: \")\n",
    "num_one = int(input())\n",
    "print(\"Please give another number: \")\n",
    "num_two = int(input())\n",
    "\n",
    "if num_one == 0:\n",
    "    print(\"Don't divide by zero!\")\n",
    "elif num_two == 0:\n",
    "    print(\"Don't divide by zero!\")\n",
    "elif num_one > num_two:\n",
    "    sum = num_one / num_two\n",
    "    print(int(sum))\n",
    "elif num_two > num_one:\n",
    "    sum = num_two / num_one\n",
    "    print(int(sum))\n",
    "else:\n",
    "    print(\"Something went wrong!\")"
   ]
  },
  {
   "cell_type": "markdown",
   "metadata": {
    "collapsed": true
   },
   "source": [
    "[Terms of use](http://go.microsoft.com/fwlink/?LinkID=206977) &nbsp; [Privacy & cookies](https://go.microsoft.com/fwlink/?LinkId=521839) &nbsp; © 2017 Microsoft"
   ]
  }
 ],
 "metadata": {
  "anaconda-cloud": {},
  "kernelspec": {
   "display_name": "Python 3",
   "language": "python",
   "name": "python3"
  },
  "language_info": {
   "codemirror_mode": {
    "name": "ipython",
    "version": 3
   },
   "file_extension": ".py",
   "mimetype": "text/x-python",
   "name": "python",
   "nbconvert_exporter": "python",
   "pygments_lexer": "ipython3",
   "version": "3.12.5"
  }
 },
 "nbformat": 4,
 "nbformat_minor": 1
}
