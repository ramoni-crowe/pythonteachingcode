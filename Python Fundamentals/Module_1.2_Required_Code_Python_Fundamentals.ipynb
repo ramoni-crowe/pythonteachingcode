{
 "cells": [
  {
   "attachments": {},
   "cell_type": "markdown",
   "metadata": {},
   "source": [
    "\n",
    "#  Module 1 Required Coding Activity  \n",
    "\n",
    "Be sure to complete the tutorials and practice prior to attempting this activity.    \n",
    "\n",
    "| Important Assignment Requirements |  \n",
    "|:-------------------------------|  \n",
    "|  **NOTE:** This program **requires** a function, **`print`** output and using code syntax used in module 1 such as keywords **`for`**/**`in`** (iteration), **`input`**, **`if`**, **`else`**, **`.isalpha()`** method, **`.lower()`** or **`.upper()`** method. Also, ensure you include your full name in the prompt. See the sample input for more detail. |  \n",
    "\n",
    "\n",
    "## Program: Words after \"G\"/\"g\"\n",
    "Create a program inputs a phrase (like a famous quotation) and prints all of the words that start with h-z\n",
    "\n",
    "Sample input:  \n",
    "`Welcome, [YOUR NAME GOES HERE]. Enter a 1 sentence quote, non-alpha separate words:` **`Wheresoever you go, go with all your heart`**  \n",
    "\n",
    "Sample output:\n",
    "```\n",
    "WHERESOEVER\n",
    "YOU\n",
    "WITH\n",
    "YOUR\n",
    "HEART\n",
    "```  \n",
    "![words_after_g flowchart](images/words_after_gG.png) \n",
    "\n",
    "- split the words by building a placeholder variable: **`word`**  \n",
    "  - loop each character in the input string  \n",
    "  - check if character is a letter  \n",
    "  - add a letter to **`word`** each loop until a non-alpha char is encountered  \n",
    "\n",
    "- **if** character is alpha \n",
    "  - add character to **`word`**    \n",
    "  - non-alpha detected (space, punctuation, digit,...) defines the end of a word and goes to **`else`**    \n",
    "- **`else`**  \n",
    "  - check **`if`** word is greater than \"g\" alphabetically\n",
    "      - print word \n",
    "      - set word = empty string\n",
    "  - or **else** \n",
    "    - set word = empty string and build the next word  \n",
    "\n",
    "Hint: use `.lower()`\n",
    "\n",
    "Consider how you will print the last word if it doesn't end with a non-alpha character like a space or punctuation?\n",
    "\n"
   ]
  },
  {
   "cell_type": "code",
   "execution_count": 87,
   "metadata": {
    "collapsed": true
   },
   "outputs": [
    {
     "name": "stdout",
     "output_type": "stream",
     "text": [
      " \n"
     ]
    },
    {
     "data": {
      "text/plain": [
       "'\\n    elif ltr.lower() == \"e\":\\n        letter_test += \"?\"\\n    elif ltr.lower() == \"t\":\\n        letter_test += \"?\"\\n    else:\\n        letter_test += ltr\\n        \\nnew_string = \"\"\\nfor char in letter_test:\\n    if char == \" \":\\n        new_string += \" \\n\"\\n    else:\\n        new_string += char\\n        \\nprint(new_string)\\n\\n\\nnew_name = \" \"\\nfor ltr in first_name:\\n    if ltr.lower() == \"a\":\\n        new_name += \"?\"\\n    elif ltr.lower() == \"e\":\\n        new_name += \"?\"\\n    elif ltr.lower() == \"t\":\\n        new_name += \"?\"\\n    else:\\n        new_name += ltr'"
      ]
     },
     "execution_count": 87,
     "metadata": {},
     "output_type": "execute_result"
    }
   ],
   "source": [
    "# [] create words after \"G\" following the Assignment requirements use of functions, menhods and kwyowrds\n",
    "# Sample quote: \"Wheresoever you go, go with all your heart\" ~ Confucius (551 BC - 479 BC)\n",
    "\n",
    "\n",
    "\n",
    "from requests import delete\n",
    "\n",
    "\n",
    "test = input(\"Welcom, Ramoni. Enter a 1 sentence quote, non-alpha separate words: \")\n",
    "letter_test = \" \"\n",
    "a_test = \" \"\n",
    "for ltr in test:\n",
    "    if ltr.startswith(\"a\"):\n",
    "        a_test += ltr[:0]\n",
    "    else:\n",
    "        break\n",
    "        #letter_test(ltr)\n",
    "        \n",
    "print(a_test)\n",
    "    #if ltr.lower().startswith(\"a\"):\n",
    "        \n",
    "        #letter_test += ltr[:0]\n",
    "    a_test = ltr[:0]\n",
    "            letter_test = a_test\n",
    "            break\n",
    "        a_test = test.append(ltr)\n",
    "        letter_test += a_test\n",
    "        #strlength = test.replace(\" \",\" \")\n",
    "        #letter_test = test[len(test)-strlength]        letter_test = test[0:len(test)-strlength]\n",
    "        #a_test = ltr\n",
    "        #letter_test = a_test[:0]\n",
    "        #letter_test += ltr.replace(\" \", \" \")\n",
    "        #print(letter_test)\n",
    "        #ltr += ltr.replace(\" \", \" \")\n",
    "        #ltr += ltr.remove(\"0:\")\n",
    "\n",
    "    elif ltr.lower() == \"e\":\n",
    "        letter_test += \"?\"\n",
    "    elif ltr.lower() == \"t\":\n",
    "        letter_test += \"?\"\n",
    "    else:\n",
    "        letter_test += ltr\n",
    "        \n",
    "new_string = \"\"\n",
    "for char in letter_test:\n",
    "    if char == \" \":\n",
    "        new_string += \" \\n\"\n",
    "    else:\n",
    "        new_string += char\n",
    "        \n",
    "print(new_string)\n",
    "\n",
    "\n",
    "new_name = \" \"\n",
    "for ltr in first_name:\n",
    "    if ltr.lower() == \"a\":\n",
    "        new_name += \"?\"\n",
    "    elif ltr.lower() == \"e\":\n",
    "        new_name += \"?\"\n",
    "    elif ltr.lower() == \"t\":\n",
    "        new_name += \"?\"\n",
    "    else:\n",
    "        new_name += ltr"
   ]
  },
  {
   "cell_type": "markdown",
   "metadata": {},
   "source": [
    "Submit this by creating a python file (.py) and submitting it in D2L. Be sure to test that it works. "
   ]
  }
 ],
 "metadata": {
  "anaconda-cloud": {},
  "kernelspec": {
   "display_name": "Python 3",
   "language": "python",
   "name": "python3"
  },
  "language_info": {
   "codemirror_mode": {
    "name": "ipython",
    "version": 3
   },
   "file_extension": ".py",
   "mimetype": "text/x-python",
   "name": "python",
   "nbconvert_exporter": "python",
   "pygments_lexer": "ipython3",
   "version": "3.12.5"
  }
 },
 "nbformat": 4,
 "nbformat_minor": 1
}
