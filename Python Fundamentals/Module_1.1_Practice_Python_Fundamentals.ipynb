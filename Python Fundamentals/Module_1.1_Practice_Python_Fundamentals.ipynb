{
 "cells": [
  {
   "cell_type": "markdown",
   "metadata": {},
   "source": [
    "# Module 1 Practice - Python Fundamentals\n",
    "## Sequence: String\n",
    "\n",
    "<font size=\"5\" color=\"#00A0B2\"  face=\"verdana\"> <B>Student will be able to</B></font>  \n",
    "- Work with String Characters\n",
    "- Slice strings into substrings\n",
    "- Iterate through String Characters\n",
    "- Use String ~~Tricks~~ Methods"
   ]
  },
  {
   "cell_type": "markdown",
   "metadata": {},
   "source": [
    "# &nbsp;\n",
    "<font size=\"6\" color=\"#B24C00\"  face=\"verdana\"> <B>Task 1</B></font>\n",
    "##  Access String Characters \n",
    "### `working_string[index]`\n"
   ]
  },
  {
   "cell_type": "code",
   "execution_count": null,
   "metadata": {},
   "outputs": [],
   "source": [
    "# [ ] access and print the second character from planet_name: \"u\"\n",
    "planet_name = \"Jupiter\"\n",
    "\n",
    "print(planet_name[1])"
   ]
  },
  {
   "cell_type": "code",
   "execution_count": null,
   "metadata": {},
   "outputs": [],
   "source": [
    "# [ ] access and print the first character from planet_name: \"J\"\n",
    "planet_name = \"Jupiter\"\n",
    "\n",
    "print(planet_name[0])"
   ]
  },
  {
   "cell_type": "code",
   "execution_count": null,
   "metadata": {},
   "outputs": [],
   "source": [
    "# [ ] access and print the first and last characters from planet_name\n",
    "planet_name = \"Jupiter\"\n",
    "\n",
    "print(planet_name[0])\n",
    "print(planet_name[-1])"
   ]
  },
  {
   "cell_type": "code",
   "execution_count": null,
   "metadata": {},
   "outputs": [],
   "source": [
    "# [ ] using a negative index access and print the first character from planet_name: \"J\"\n",
    "planet_name = \"Jupiter\"\n",
    "\n",
    "print(planet_name[-7])"
   ]
  },
  {
   "cell_type": "markdown",
   "metadata": {},
   "source": [
    "# &nbsp;\n",
    "<font size=\"6\" color=\"#B24C00\"  face=\"verdana\"> <B>Task 2</B></font>\n",
    "## slice\n",
    "### `working_string[start:stop]`\n",
    "### `working_string[start:stop:step]`"
   ]
  },
  {
   "cell_type": "code",
   "execution_count": null,
   "metadata": {},
   "outputs": [],
   "source": [
    "# [ ] print planet_name sliced into the first 3 characters and remaining characters\n",
    "planet_name = \"Neptune\"\n",
    "\n",
    "print(planet_name[:3])\n",
    "print(planet_name[3:])"
   ]
  },
  {
   "cell_type": "code",
   "execution_count": null,
   "metadata": {},
   "outputs": [],
   "source": [
    "# [ ] print 1st char and then every 3rd char of wise_words\n",
    "# use string slice with a step\n",
    "wise_words = 'Play it who opens'\n",
    "\n",
    "print(wise_words[0::3])"
   ]
  },
  {
   "cell_type": "code",
   "execution_count": null,
   "metadata": {},
   "outputs": [],
   "source": [
    "# [ ] print planet_name in reverse\n",
    "\n",
    "print(planet_name[::-1])"
   ]
  },
  {
   "cell_type": "markdown",
   "metadata": {
    "collapsed": true
   },
   "source": [
    "# &nbsp;\n",
    "<font size=\"6\" color=\"#B24C00\"  face=\"verdana\"> <B>Task 3</B></font>\n",
    "\n",
    "## iterate a String\n",
    "### `for letter in sentence:`"
   ]
  },
  {
   "cell_type": "code",
   "execution_count": null,
   "metadata": {},
   "outputs": [],
   "source": [
    "# [ ] Get user input for 1 fav_food\n",
    "# [ ] iterate through letters in fav_food \n",
    "#    - print each letter on a new line\n",
    "\n",
    "fav_food = input(\"What's your favorit food: \")\n",
    "for letter in fav_food:\n",
    "    print(letter)\n",
    "    "
   ]
  },
  {
   "cell_type": "code",
   "execution_count": null,
   "metadata": {},
   "outputs": [],
   "source": [
    "# [ ] iterate work_tip string concatenate each letter to variable: new_string \n",
    "# [ ] concatenate the letter or a \"-\" instead of a space \" \"\n",
    "# tip: concatenate string example: word = word + \"a\"\n",
    "work_tip = \"Good code is commented code\"\n",
    "new_string = \"\" \n",
    "\n",
    "for char in work_tip:\n",
    "    if char == \" \":\n",
    "        new_string += \"-\"\n",
    "    else:\n",
    "        new_string += char\n",
    "        \n",
    "print(new_string)\n"
   ]
  },
  {
   "cell_type": "code",
   "execution_count": null,
   "metadata": {},
   "outputs": [],
   "source": [
    "# [ ] Print the first 4 letters of name on new line\n",
    "name = \"Hiroto\"\n",
    "\n",
    "print(name[:4])"
   ]
  },
  {
   "cell_type": "code",
   "execution_count": null,
   "metadata": {},
   "outputs": [],
   "source": [
    "# [ ] Print every other letter from 2nd to last letter of name \n",
    "name = \"Hiroto\"\n",
    "\n",
    "print(name[1::2])"
   ]
  },
  {
   "cell_type": "markdown",
   "metadata": {},
   "source": [
    "# &nbsp;\n",
    "<font size=\"6\" color=\"#B24C00\"  face=\"verdana\"> <B>Task 4</B></font>\n",
    "\n",
    "## Program: Mystery Name\n",
    "- get user input for first_name\n",
    "- create an empty string variable: new_name\n",
    "- iterate through letters in first_name Backwards \n",
    "  - add each letter to new_name as you iterate\n",
    "  - Replace the letter if \"e\", \"t\" or \"a\" with \"?\" *(hint: if, elif, elif, else)*\n",
    "- print new_name  \n",
    "\n",
    "**example: \"Alton\" = \"no?l?\"**"
   ]
  },
  {
   "cell_type": "code",
   "execution_count": null,
   "metadata": {},
   "outputs": [],
   "source": [
    "# [ ] Create Mystery Name\n",
    "\n",
    "first_name = input(\"Please enter a first name: \")\n",
    "new_name = \" \"\n",
    "for ltr in first_name:\n",
    "    if ltr.lower() == \"a\":\n",
    "        new_name += \"?\"\n",
    "    elif ltr.lower() == \"e\":\n",
    "        new_name += \"?\"\n",
    "    elif ltr.lower() == \"t\":\n",
    "        new_name += \"?\"\n",
    "    else:\n",
    "        new_name += ltr\n",
    "print(first_name,\"to\",new_name)"
   ]
  },
  {
   "cell_type": "markdown",
   "metadata": {},
   "source": [
    "# &nbsp;\n",
    "<font size=\"6\" color=\"#B24C00\"  face=\"verdana\"> <B>Task 4</B></font>\n",
    "## `len(), .find(), .count()`   \n",
    "\n",
    "```  \n",
    "- len(working_string)\n",
    "- .find(\"i\")\n",
    "- .find(\"i\",start)\n",
    "- .find(\"i\", start, end)\n",
    "- .count(\"i\")\n",
    "- .count(\"i\", start)\n",
    "- .count(\"i\", start, end)\n",
    "```   "
   ]
  },
  {
   "cell_type": "code",
   "execution_count": null,
   "metadata": {},
   "outputs": [],
   "source": [
    "# [ ] find and display the length of the string: topic\n",
    "topic = \"len() returns the length of a string\"\n",
    "\n",
    "len(topic)"
   ]
  },
  {
   "cell_type": "code",
   "execution_count": null,
   "metadata": {},
   "outputs": [],
   "source": [
    "# [ ] use len() to find and display the mid_pt (middle) index (+/- 1) of the string: topic\n",
    "# note: index values are whole numbers\n",
    "from operator import index\n",
    "\n",
    "\n",
    "topic = \"len() can take a sequence, like a string, as an argument\"\n",
    "\n",
    "mid_pt = int(len(topic))/2\n",
    "print(mid_pt)"
   ]
  },
  {
   "cell_type": "code",
   "execution_count": null,
   "metadata": {},
   "outputs": [],
   "source": [
    "# [ ] print index where first instance of the word  \"code\" starts using .find()\n",
    "work_tip = \"Good code is commented code\"\n",
    "\n",
    "print(work_tip.find(\"code\"))"
   ]
  },
  {
   "cell_type": "code",
   "execution_count": null,
   "metadata": {},
   "outputs": [],
   "source": [
    "# [ ] search for \"code\" in code_tip using .find() \n",
    "# [ ] search substring with substring index start= 13,end = last char \n",
    "# [ ] save result in variable: code_index\n",
    "# [ ] display index of where \"code\" is found, or print \"not found\" if code_index == -1\n",
    "work_tip = \"Good code is commented code\"\n",
    "\n",
    "code_index = work_tip.find(\"code\", 13)\n",
    "if code_index != -1:\n",
    "    print(\"Code is found at: \", code_index)\n",
    "    \n",
    "else:\n",
    "    print(\"Code not found\")"
   ]
  },
  {
   "cell_type": "markdown",
   "metadata": {
    "collapsed": true
   },
   "source": [
    "# &nbsp;\n",
    "<font size=\"6\" color=\"#B24C00\"  face=\"verdana\"> <B>Task 5</B></font>"
   ]
  },
  {
   "cell_type": "code",
   "execution_count": null,
   "metadata": {},
   "outputs": [],
   "source": [
    "# [ ] find and report (print) number of w's, o's + use of word \"code\"\n",
    "work_tip = \"Good code is commented code\"\n",
    "\n"
   ]
  },
  {
   "cell_type": "code",
   "execution_count": null,
   "metadata": {},
   "outputs": [],
   "source": [
    "# [ ]  count times letter \"i\" appears in code_tip string\n",
    "# [ ] find and display the index of all the letter i's in code_tip\n",
    "# Remember: if .find(\"i\") has No Match, -1 is returned\n",
    "code_tip = \"code a conditional decision like you would say it\"\n",
    "print (\"code_tip:\" , code_tip)\n",
    "\n",
    "first_name = input(\"Please enter a first name: \")\n",
    "new_name = \" \"\n",
    "num_count = first_name.count(\"i\")\n",
    "for ltr in first_name:\n",
    "    if ltr.lower() == \"i\":\n",
    "        new_name += \"1\"\n",
    "    elif ltr.lower() == \"o\":\n",
    "        new_name += \"-1\"\n",
    "    else:\n",
    "        new_name += ltr\n",
    "print(new_name)\n",
    "print(num_count)"
   ]
  },
  {
   "cell_type": "markdown",
   "metadata": {},
   "source": [
    "# &nbsp;\n",
    "<font size=\"6\" color=\"#B24C00\"  face=\"verdana\"> <B>Task 6</B></font>\n",
    "\n",
    "## Program: Words after \"G\"/\"g\"\n",
    "Create a program inputs a phrase (like a famous quotation) and prints all of the words that start with h-z\n",
    "\n",
    "Sample input:  \n",
    "`enter a 1 sentence quote, non-alpha separate words:` **`Wheresoever you go, go with all your heart`**  \n",
    "\n",
    "Sample output:\n",
    "```\n",
    "WHERESOEVER\n",
    "YOU\n",
    "WITH\n",
    "YOUR\n",
    "HEART\n",
    "```\n",
    "- split the words by building a placeholder variable: **`word`**  \n",
    "  - loop each character in the input string  \n",
    "  - check if character is a letter  \n",
    "  - add a letter to **`word`** each loop until a non-alpha char is encountered  \n",
    "\n",
    "- **if** character is alpha \n",
    "  - add character to **`word`**    \n",
    "  - non-alpha detected (space, punctuation, digit,...) defines the end of a word and goes to **`else`**    \n",
    "- **`else`**  \n",
    "  - check **`if`** word is greater than \"g\" alphabetically\n",
    "      - print word \n",
    "      - set word = empty string\n",
    "  - or **else** \n",
    "    - set word = empty string and build the next word  \n",
    "\n",
    "Hint: use `.lower()`"
   ]
  },
  {
   "cell_type": "code",
   "execution_count": 3,
   "metadata": {},
   "outputs": [
    {
     "name": "stdout",
     "output_type": "stream",
     "text": [
      "Wheresoever\n",
      "you\n",
      "with\n",
      "your\n",
      "heart\n"
     ]
    }
   ],
   "source": [
    "# [] create words after \"G\"\n",
    "# sample quote \"Wheresoever you go, go with all your heart\" ~ Confucius (551 BC - 479 BC)\n",
    "\n",
    "'''test = input(\"Enter a 1 sentence quote non-alpha seperate words:\")\n",
    "word = \" \"\n",
    "while test.isalpha():\n",
    "    for char in test:\n",
    "        if char.isalpha().startswith(\"a\"):\n",
    "            \n",
    "            end = start + len(char)\n",
    "            test = start[:start] + end[end:]\n",
    "            word += char\n",
    "        else:\n",
    "            if word.lower() >= \"g\":\n",
    "                print(word)\n",
    "                word = \" \"        \n",
    "\n",
    "print(test)\n",
    "\n",
    "test = input(\"Enter a one sentice word: \")\n",
    "\n",
    "word = \" \"\n",
    "\n",
    "for char in test:\n",
    "    if char.isaplpha():\n",
    "        word += char\n",
    "    else:\n",
    "        if word and word[0].lower() >= 'g': \n",
    "            print(word)\n",
    "        word = \" \"\n",
    "\n",
    "if word and word[0].lower() >='g':\n",
    "    print(word)\n",
    "    \n",
    "def extract_words_after_g(insentence):\n",
    "  \"\"\"Extracts and prints words starting with 'g' or later from a sentence.\n",
    "\n",
    "  Args:\n",
    "    sentence: The input sentence.\n",
    "  \"\"\"\n",
    "\n",
    "  word = \"\"\n",
    "  for char in sentence:\n",
    "    if char.isalpha():\n",
    "      word += char\n",
    "    else:\n",
    "      if word and word[-1].lower() >= 'g':\n",
    "        print(word)\n",
    "      word = \"\"\n",
    "  if word and word[-1].lower() >= 'g':\n",
    "    print(word)\n",
    "sentence = input()\n",
    "extract_words_after_g(sentence)\n",
    "\n",
    "copy and paste from computer. \n",
    "\n",
    "\n",
    "def extract_words_after_g(test = print(\"\")):\n",
    "    sentence = input()\n",
    "    \"\"\"Extracts and prints words starting with 'h' or later from a input.\n",
    "\n",
    "   \n",
    "    \"\"\"\n",
    "    word = \"\"\n",
    "    for char in input:\n",
    "        if char.isalpha():\n",
    "            word += char\n",
    "        else:\n",
    "            if word and word[0].lower() >= 'h':  # Check the first letter of the word\n",
    "                print(word)\n",
    "            word = \"\"\n",
    "    if word and word[0].lower() >= 'h':  # Check the first letter of the last word\n",
    "        print(word)\n",
    "\n",
    "# Example usage:\n",
    "#sentence = input()\n",
    "#extract_words_after_g()\n",
    "\n",
    "def remove_words_before_h(sentence):\n",
    "  \"\"\"Removes words starting with 'a' through 'g' from a sentence and returns the modified sentence.\n",
    "\n",
    "  Args:\n",
    "    sentence: The input sentence.\n",
    "\n",
    "  Returns:\n",
    "    The modified sentence with words starting with 'a' through 'g' removed.\n",
    "  \"\"\"\n",
    "\n",
    "  words = sentence.split()\n",
    "  filtered_words = [word for word in words if word.lower()[0] >= 'h']\n",
    "  return \" \".join(filtered_words)\n",
    "\n",
    "# Example usage:\n",
    "sentence = input(\"Enter a sentence: \")\n",
    "modified_sentence = remove_words_before_h(sentence)\n",
    "print(modified_sentence)\n",
    "\n",
    "\n",
    "\n",
    "def extract_words_after_g():\n",
    "    print(\"Enter a 1 sentence quote non-alpha seperate words: \")\n",
    "    cat = input()\n",
    "    word = \"\"\n",
    "    \n",
    "    for char in cat:\n",
    "        if char.isalpha():\n",
    "            word += char\n",
    "        else:\n",
    "            if word and word[-1].lower() >= 'g':\n",
    "                print(word)\n",
    "            word = \"\"\n",
    "\n",
    "\n",
    "if word.lower() >= 'g':\n",
    "    if word[-1].lower() >= 'g':\n",
    "        print(word)\n",
    "\n",
    "extract_words_after_g()\n",
    "\n",
    "def extract_words_after_g():\n",
    "    box = input(\"Enter a 1 sentence quote non-alpha seperate words: \")\n",
    "    word = \"\"\n",
    "    \n",
    "    for char in box:\n",
    "        if char.isalpha():\n",
    "            word += char\n",
    "        else:\n",
    "            if word and word[-1].lower() >= 'h':  # Check the first letter of the word\n",
    "                print(word)\n",
    "            word = \"\"\n",
    "            \n",
    "    if word and word[-1].lower() >= 'h':  # Check the first letter of the last word\n",
    "        print(word)\n",
    "\n",
    "# Example usage:\n",
    "#box = input()\n",
    "extract_words_after_g()''' \n",
    "\n",
    "def extract_words_after_g():\n",
    "    box = input(\"Enter a 1 sentence quote non-alpha seperate words: \")\n",
    "    word = \"\"\n",
    "    \n",
    "    for char in box:\n",
    "        if char.isalpha():\n",
    "            word += char\n",
    "        else:\n",
    "            if word and word[0].lower() >= 'h':  \n",
    "                print(word)\n",
    "            word = \"\"\n",
    "            \n",
    "    if word and word[0].lower() >= 'h':  \n",
    "        print(word)\n",
    "\n",
    "\n",
    "extract_words_after_g()"
   ]
  },
  {
   "cell_type": "markdown",
   "metadata": {},
   "source": []
  },
  {
   "cell_type": "markdown",
   "metadata": {
    "collapsed": true
   },
   "source": [
    "[Terms of use](http://go.microsoft.com/fwlink/?LinkID=206977) &nbsp; [Privacy & cookies](https://go.microsoft.com/fwlink/?LinkId=521839) &nbsp; © 2017 Microsoft"
   ]
  }
 ],
 "metadata": {
  "anaconda-cloud": {},
  "kernelspec": {
   "display_name": "Python 3",
   "language": "python",
   "name": "python3"
  },
  "language_info": {
   "codemirror_mode": {
    "name": "ipython",
    "version": 3
   },
   "file_extension": ".py",
   "mimetype": "text/x-python",
   "name": "python",
   "nbconvert_exporter": "python",
   "pygments_lexer": "ipython3",
   "version": "3.12.5"
  }
 },
 "nbformat": 4,
 "nbformat_minor": 1
}
